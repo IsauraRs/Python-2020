{
 "cells": [
  {
   "cell_type": "markdown",
   "metadata": {},
   "source": [
    "<img src=https://pbs.twimg.com/media/CVasY24XAAApgk6.png width=\"400\" height=\"341\">"
   ]
  },
  {
   "cell_type": "markdown",
   "metadata": {
    "colab_type": "text",
    "id": "be73aWTGkE6k"
   },
   "source": [
    "# Manejo de archivos\n",
    "\n",
    "---\n",
    "\n",
    "Estos son los subtemas que se verán en manejo de archivos:\n",
    "1. Manejadores de contexto\n",
    "2. Serialización\n",
    "3. Formatos\n",
    "  1. XML\n",
    "  2. JSON\n",
    "  3. CSV\n",
    "\n"
   ]
  },
  {
   "cell_type": "markdown",
   "metadata": {
    "colab_type": "text",
    "id": "4j8URDvApCGt"
   },
   "source": [
    "## 1. Manejador de contexto\n",
    "+ **Introducción:**\n",
    "\n",
    ">Si bien los manejadores de contexto de Python son ampliamente utilizados, pocos entienden el propósito detrás de su uso. Estas declaraciones, comúnmente utilizadas con los archivos de lectura y escritura, **ayudan a la aplicación a conservar la memoria del sistema y mejorar la administración de recursos** al garantizar que los recursos específicos solo se usan para ciertos procesos.\n",
    "\n",
    "+ ¿Qúe ventaja ofrece el manejador de contexto?\n",
    "\n",
    "> Estos fueron introducidos en el PEP 343 y simplifican la forma en la que se administran los recursos que el try ... catch resuelven. Puede ser útil cuando un error hace que salga prematuramente de un archivo abierto o conexión. Salir de un script sin cerrar correctamente los archivos/conexiones es una mala idea, ya que puede causar la pérdida de datos u otros problemas. Al utilizar un administrador de contexto, puede asegurarse de que siempre se tomen precauciones para evitar daños o pérdidas de esta manera. Esta característica fue añadida en Python 2.5.\n",
    "\n",
    "Por ejemplo, antes del PEP 343:\n",
    "\n",
    "```Python\n",
    "mgr = (EXPR)\n",
    "   exit = type(mgr).__exit__  # Not calling it yet\n",
    "   value = type(mgr).__enter__(mgr)\n",
    "   exc = True\n",
    "   try:\n",
    "       try:\n",
    "           VAR = value  # Only if \"as VAR\" is present\n",
    "           #HERE THE BLOCK\n",
    "       except:\n",
    "           # The exceptional case is handled here\n",
    "           exc = False\n",
    "           if not exit(mgr, *sys.exc_info()):\n",
    "               raise\n",
    "           # The exception is swallowed if exit() returns true\n",
    "   finally:\n",
    "       # The normal and non-local-goto cases are handled here\n",
    "       if exc:\n",
    "           exit(mgr, None, None, None)\n",
    "```\n",
    "Despues del PEP 343:\n",
    "\n",
    "```Python\n",
    "with EXPR as VAR:\n",
    "    BLOCK\n",
    "```\n",
    "Como se puede observar el codigo se simplificó muchisimo antes y despues del manejador de contexto\n",
    "+ ¿En que situaciones debo utilizarlo?\n",
    "> Cuando queramos utilizar archivos, conexiones de red, conexion a bases de datos\n",
    "\n",
    "+ ¿Cómo puedo utlizarlo?"
   ]
  },
  {
   "cell_type": "code",
   "execution_count": null,
   "metadata": {},
   "outputs": [],
   "source": [
    "with open(filename) as open_file:\n",
    "    file_contents = open_file.read()\n",
    "\n",
    "# the open_file object has automatically been closed.\n",
    "\n",
    "with database_connection as cursor:\n",
    "    cursor.execute(sql_query)"
   ]
  },
  {
   "cell_type": "markdown",
   "metadata": {
    "colab_type": "text",
    "id": "8MN0zdJsowiE"
   },
   "source": [
    "## 2. Serialización\n",
    "¿Qúe es la serialización?\n",
    "\n",
    "¿Cómo puedo utlizarlo?\n",
    "\n",
    "¿En que situaciones debo utilizarlo?"
   ]
  },
  {
   "cell_type": "markdown",
   "metadata": {
    "colab_type": "text",
    "id": "Ei69AZw8pEVr"
   },
   "source": [
    "## 3. Formatos\n",
    "\n",
    "¿Cómo puedo utlizarlo?\n",
    "\n",
    "¿En que situaciones debo utilizarlo?"
   ]
  },
  {
   "cell_type": "markdown",
   "metadata": {},
   "source": [
    "## 3.1 XML\n",
    "ASDFASDF\n",
    "\n",
    "ASDFASDF\n",
    "\n",
    "ASDFASDF"
   ]
  },
  {
   "cell_type": "code",
   "execution_count": null,
   "metadata": {},
   "outputs": [],
   "source": []
  },
  {
   "cell_type": "markdown",
   "metadata": {
    "colab_type": "text",
    "id": "tm__zsFupd9q"
   },
   "source": [
    "## 3.2 JSON\n",
    "\n",
    "+ insertar aquí una descripcion de lo que es csv\n",
    "\n",
    "+ por que existe este tipo de archivo\n",
    "\n",
    "+ cual es su utlidad\n",
    "\n",
    "+ como lo utilizamos en python\n",
    "\n",
    "+ como poder implementarlo en nuestros programas\n",
    "\n",
    "+ ver un ejemplo practico\n",
    "\n",
    "+ dar un ejercicio\n",
    "\n",
    "\n",
    "\n"
   ]
  },
  {
   "cell_type": "code",
   "execution_count": null,
   "metadata": {},
   "outputs": [],
   "source": []
  },
  {
   "cell_type": "markdown",
   "metadata": {
    "colab_type": "text",
    "id": "tm__zsFupd9q"
   },
   "source": [
    "## 3.3 CSV\n",
    "\n",
    "+ insertar aquí una descripcion de lo que es csv\n",
    "\n",
    "+ por que existe este tipo de archivo\n",
    "\n",
    "+ cual es su utlidad\n",
    "\n",
    "+ como lo utilizamos en python\n",
    "\n",
    "+ como poder implementarlo en nuestros programas\n",
    "\n",
    "+ ver un ejemplo practico\n",
    "\n",
    "+ dar un ejercicio\n",
    "\n",
    "\n",
    "\n"
   ]
  },
  {
   "cell_type": "code",
   "execution_count": 0,
   "metadata": {
    "colab": {},
    "colab_type": "code",
    "collapsed": true,
    "id": "BN1MFuWFj5vN"
   },
   "outputs": [],
   "source": [
    "# Aqui se describe una forma de utlizar archivos CSV\n",
    "# Es el formato mas usado para importar y exportar datos de hojas de caluclo y bases de datos\n",
    "\n",
    "import csv\n",
    "\n",
    "with open('calificaciones.csv') as archivo:\n",
    "\tlectura = csv.reader(archivo)\n",
    "\tfor fila in lectura:\n",
    "\t\tprint(fila)\n",
    "\n",
    "# Se crea una lista por fila\n",
    "\n",
    "# Si los elementos no se separan con comas\n",
    "\n",
    "with open('calificaciones2.csv') as archivo:\n",
    "\tlectura = csv.reader(archivo, delimiter=':')\n",
    "\tfor fila in lectura:\n",
    "\t\tprint(fila)\n",
    "\n",
    "\n",
    "# Para escribir a un archivo\n",
    "\n",
    "lista = [1,2,3,4,\"hola\"]\n",
    "\n",
    "with  open('calificaciones.csv') as arch1 ,open('archivo.csv', 'w') as arch2:\n",
    "\tlectura = csv.reader(arch1)\n",
    "\tescritura = csv.writer(arch2,delimiter = ':')\n",
    "\tfor fila in lectura:\n",
    "\t\tescritura.writerow(fila)"
   ]
  },
  {
   "cell_type": "markdown",
   "metadata": {},
   "source": [
    "## Referencias:\n",
    "\n",
    "https://riptutorial.com/es/python\n",
    "\n",
    "https://riptutorial.com/es/python/topic/928/gestores-de-contexto--declaracion--con--\n"
   ]
  }
 ],
 "metadata": {
  "colab": {
   "name": "Almacenamiento de datos.ipynb",
   "provenance": []
  },
  "kernelspec": {
   "display_name": "Python 3",
   "language": "python",
   "name": "python3"
  },
  "language_info": {
   "codemirror_mode": {
    "name": "ipython",
    "version": 3
   },
   "file_extension": ".py",
   "mimetype": "text/x-python",
   "name": "python",
   "nbconvert_exporter": "python",
   "pygments_lexer": "ipython3",
   "version": "3.7.4"
  }
 },
 "nbformat": 4,
 "nbformat_minor": 1
}
