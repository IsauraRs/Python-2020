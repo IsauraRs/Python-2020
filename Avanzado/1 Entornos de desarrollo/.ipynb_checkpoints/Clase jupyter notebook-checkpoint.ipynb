{
 "cells": [
  {
   "cell_type": "markdown",
   "metadata": {},
   "source": [
    "# Este es código de Markdown\n",
    "\n",
    "# $\\prod_{i=1}^ni=n!$ este es código $LaTeX$\n",
    "\n",
    "<center> <h1> Este es código html </h1> <center>\n",
    "    "
   ]
  },
  {
   "cell_type": "markdown",
   "metadata": {},
   "source": [
    "# Markdown\n",
    "---\n",
    "+ ## Negritas, italica, tachado\n",
    "**Don Quijote** soy, y mi profesión la de andante caballería. *Son mis leyes, el deshacer entuertos*, prodigar el bien y evitar el mal. ~~Huyo de la vida regalada~~, de la ambición y la hipocresía, y busco para mi propia gloria la senda más angosta y difícil. ¿Es eso, de tonto y mentecato?.\n",
    "\n",
    "    + Ideas\n",
    "    + Temas\n",
    "    + Subtemas\n",
    "    + Nuevo tema\n",
    "    + Otro elemento de esta lista desordenada\n",
    "\n",
    "\n",
    "    1. First item\n",
    "    2. Second item\n",
    "    3. Third item\n",
    "    9. Fourth element\n",
    "\n",
    "+ ## Código\n",
    "\n",
    "`esta es una linea de código`\n",
    "\n",
    "```Python\n",
    "@interact(tipo_de_pan = [\"blanco\",\"integral\"],rebanadas_de_jamon = (0,5,1),mayonesa = True)\n",
    "def prepararSandwitch(tipo_de_pan, rebanadas_de_jamon, mayonesa):\n",
    "    mensaje = \"El tipo de pan que elegiste es: \" + tipo_de_pan + \" y tiene \"+ str(rebanadas_de_jamon) + \" rebanadas de jamón \"\n",
    "    if mayonesa == True:\n",
    "        mensaje + \" y sí tiene mayonesa\"\n",
    "    else:\n",
    "        mensaje + \" y no tiene mayonesa\"\n",
    "    return mensaje\n",
    "```\n",
    "+ ## Tablas\n",
    "\n",
    "|ELEMENTO 1|ELEMENTO 2|ELEMENTO 3|\n",
    "| --: | --: | --: |\n",
    "| 1 | 2 | 3 |\n",
    "| 1 | 2 | 3 |\n",
    "| 1 | 2 | 3 |\n",
    "| 1 | 2 | 3 |\n",
    "\n",
    "|ELEMENTO 1|ELEMENTO 2|ELEMENTO 3|\n",
    "| :-- | :-- | :-- |\n",
    "| 1 | 2 | 3 |\n",
    "| 1 | 2 | 3 |\n",
    "| 1 | 2 | 3 |\n",
    "| 1 | 2 | 3 |\n",
    "\n",
    "+ ## Links\n",
    "\n",
    "[Este texto representa a mi link](https://google.com)\n",
    "\n",
    "<a href=\"https://google.com\">Este es otro texto representativo</a>\n",
    "\n",
    "+ ## Imagenes\n",
    "\n",
    "[Este es un texto alternativo](../../ProtecoLogo.png)\n",
    "\n",
    "# LATEX\n",
    "---\n",
    "\n",
    "<div class=\"alert alert-warning\"> \n",
    "    Nota importante: Todo el código de latex va encerrado entre símbolos de <code>$</code> \n",
    "</div>\n",
    "\n",
    "# $\\int_0^2x^2dx$\n"
   ]
  },
  {
   "cell_type": "markdown",
   "metadata": {},
   "source": [
    "# ipywidgets\n"
   ]
  },
  {
   "cell_type": "code",
   "execution_count": 16,
   "metadata": {},
   "outputs": [],
   "source": [
    "from ipywidgets import interact, widgets\n",
    "from IPython import display"
   ]
  },
  {
   "cell_type": "code",
   "execution_count": 21,
   "metadata": {},
   "outputs": [
    {
     "data": {
      "application/vnd.jupyter.widget-view+json": {
       "model_id": "5d262036850a4ac5be61dc8db710af5d",
       "version_major": 2,
       "version_minor": 0
      },
      "text/plain": [
       "interactive(children=(IntSlider(value=25, description='n', max=50), Output()), _dom_classes=('widget-interact'…"
      ]
     },
     "metadata": {},
     "output_type": "display_data"
    },
    {
     "ename": "TypeError",
     "evalue": "'module' object is not callable",
     "output_type": "error",
     "traceback": [
      "\u001b[1;31m---------------------------------------------------------------------------\u001b[0m",
      "\u001b[1;31mTypeError\u001b[0m                                 Traceback (most recent call last)",
      "\u001b[1;32m<ipython-input-21-f5d7c28b680f>\u001b[0m in \u001b[0;36m<module>\u001b[1;34m\u001b[0m\n\u001b[0;32m      4\u001b[0m \u001b[1;33m\u001b[0m\u001b[0m\n\u001b[0;32m      5\u001b[0m \u001b[0mw\u001b[0m \u001b[1;33m=\u001b[0m \u001b[0minteract\u001b[0m\u001b[1;33m(\u001b[0m\u001b[0mtriangulo\u001b[0m\u001b[1;33m,\u001b[0m\u001b[0mn\u001b[0m\u001b[1;33m=\u001b[0m\u001b[1;33m(\u001b[0m\u001b[1;36m0\u001b[0m\u001b[1;33m,\u001b[0m\u001b[1;36m50\u001b[0m\u001b[1;33m)\u001b[0m\u001b[1;33m)\u001b[0m\u001b[1;33m\u001b[0m\u001b[1;33m\u001b[0m\u001b[0m\n\u001b[1;32m----> 6\u001b[1;33m \u001b[0mdisplay\u001b[0m\u001b[1;33m(\u001b[0m\u001b[0mw\u001b[0m\u001b[1;33m)\u001b[0m\u001b[1;33m\u001b[0m\u001b[1;33m\u001b[0m\u001b[0m\n\u001b[0m",
      "\u001b[1;31mTypeError\u001b[0m: 'module' object is not callable"
     ]
    }
   ],
   "source": [
    "def triangulo(n):\n",
    "    for i in range(n):\n",
    "        print(' '*(n-i) + '*'*i + '*'*i)\n",
    "        \n",
    "w = interact(triangulo,n=(0,50))"
   ]
  },
  {
   "cell_type": "code",
   "execution_count": null,
   "metadata": {},
   "outputs": [],
   "source": []
  },
  {
   "cell_type": "code",
   "execution_count": null,
   "metadata": {},
   "outputs": [],
   "source": []
  },
  {
   "cell_type": "code",
   "execution_count": null,
   "metadata": {},
   "outputs": [],
   "source": []
  },
  {
   "cell_type": "code",
   "execution_count": null,
   "metadata": {},
   "outputs": [],
   "source": []
  }
 ],
 "metadata": {
  "kernelspec": {
   "display_name": "Python 3",
   "language": "python",
   "name": "python3"
  },
  "language_info": {
   "codemirror_mode": {
    "name": "ipython",
    "version": 3
   },
   "file_extension": ".py",
   "mimetype": "text/x-python",
   "name": "python",
   "nbconvert_exporter": "python",
   "pygments_lexer": "ipython3",
   "version": "3.7.4"
  }
 },
 "nbformat": 4,
 "nbformat_minor": 2
}
