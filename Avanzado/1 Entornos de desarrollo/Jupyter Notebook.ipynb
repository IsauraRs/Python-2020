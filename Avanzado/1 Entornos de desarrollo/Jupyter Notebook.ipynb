{
 "cells": [
  {
   "cell_type": "markdown",
   "metadata": {},
   "source": [
    "# Jupyter notebook"
   ]
  },
  {
   "cell_type": "markdown",
   "metadata": {},
   "source": [
    "Jupyter Notebook es una aplicación web de código abierto, desarrollada utilizando lenguaje HTML agnóstico que permite crear, compartir y editar documentos en los que se puede ejecutar código python, hacer anotaciones, insertar ecuaciones, visualizar resultados y documentar funcionalidades.\n",
    "\n",
    "Esta aplicación está diseñada generalmente para tener una compatibilidad avanzada con Python, Markdown e incluye la posibilidad de exportar documentos hechos con la herramienta a otros formatos.\n",
    "\n",
    "Generalmente esta herramienta es utilizada para el aprendizaje del lenguaje de programación python, la limpieza y transformación de datos científicos, la simulación numérica, el modelado estadístico y puede abarcar muchas otras áreas.\n",
    "\n",
    "Jupyter Notebook es una aplicación web que sirve a modo de puente constante entre el código y los textos explicativos. De este modo, los usuarios pueden crear y compartir en tiempo real código, ecuaciones, visualizaciones, etc., junto con los textos explicativos. ¿Qué hay detrás de esta aplicación de código abierto desarrollada y gestionada por el Proyecto Jupyter?\n",
    "\n",
    "\n",
    "\n",
    "+ Aunque el lenguaje de programación fundamental en Jupyter Notebook es Python, esta aplicación también es compatible con más de 40 lenguajes, entre los que destacan R, Julia y Scala.\n",
    "\n",
    "+ La integración de diverso tipos de información nos permite dar explicaciones más adecuada de nuestros programas o de los conceptos que estemos aprendiendo.\n",
    "\n",
    "+ Podemos ejecutar y visualizar imágenes, videos, LaTeX y JavaScript, además de manipular los resultados de los mismos en tiempo real.\n",
    "\n",
    "Jupyter Notebook es una herramienta que considero fundamental para aquellos que están iniciando en el fabuloso mundo de la programación en Python, pero también cuenta con un potencial estupendo para aquellos que desean hacer estudios de la ciencias de datos de manera ordenada, con todo el potencial de Python y con la posibilidad de dejar documentada toda la base científica que se ha utilizado.\n",
    "\n",
    "### Como instalarlo\n",
    "**Pendi+ ente**\n",
    "\n",
    "### Atajos de teclado\n",
    "As any power user knows, keyboard shortcuts will save you lots of time. Jupyter stores a list of keybord shortcuts under the menu at the top: Help > Keyboard Shortcuts, or by pressing H in command mode (more on that later). It’s worth checking this each time you update Jupyter, as more shortcuts are added all the time.\n",
    "\n",
    "Another way to access keyboard shortcuts, and a handy way to learn them is to use the command palette: Cmd + Shift + P (or Ctrl + Shift + P on Linux and Windows). This dialog box helps you run any command by name – useful if you don’t know the keyboard shortcut for an action or if what you want to do does not have a keyboard shortcut. The functionality is similar to Spotlight search on a Mac, and once you start using it you’ll wonder how you lived without it!\n",
    "\n",
    "\n",
    "Some of my favorites:\n",
    "\n",
    "+ Esc will take you into command mode where you can navigate around your notebook with arrow keys.\n",
    "While in command mode:\n",
    "+ A to insert a new cell above the current cell, B to insert a new cell below.\n",
    "+ M to change the current cell to Markdown, Y to change it back to code\n",
    "+ D + D (press the key twice) to delete the current cell\n",
    "+ Enter will take you from command mode back into edit mode for the given cell.\n",
    "+ Shift + Tab will show you the Docstring (documentation) for the the object you have just typed in a code cell – you can keep pressing this short cut to cycle through a few modes of documentation.\n",
    "+ Ctrl + Shift + - will split the current cell into two from where your cursor is.\n",
    "+ Esc + F Find and replace on your code but not the outputs.\n",
    "+ Esc + O Toggle cell output.\n",
    "Select Multiple Cells:\n",
    "+ Shift + J or Shift + Down selects the next sell in a downwards direction. You can also select sells in an upwards direction by using Shift + K or Shift + Up.\n",
    "+ Once cells are selected, you can then delete / copy / cut / paste / run them as a batch. This is helpful when you need to move parts of a notebook.\n",
    "+ You can also use Shift + M to merge multiple cells.\n",
    "\n",
    "### Multicursor support\n",
    "Jupyter supports mutiple cursors, similar to Sublime Text. Simply click and drag your mouse while holding down Alt.\n",
    "\n"
   ]
  },
  {
   "cell_type": "markdown",
   "metadata": {},
   "source": [
    "[links de referencia](https://blog.desdelinux.net/jupyter-notebook/)"
   ]
  },
  {
   "cell_type": "markdown",
   "metadata": {},
   "source": [
    " Nota\n",
    "El nombre del proyecto “Jupyter” proviene de unir los 3 lenguajes de programación de núcleo Julia, Python y R."
   ]
  },
  {
   "cell_type": "code",
   "execution_count": 3,
   "metadata": {},
   "outputs": [
    {
     "name": "stdout",
     "output_type": "stream",
     "text": [
      "cambiamos esto de aqui\n",
      "cambiamos esto de aqui\n",
      "cambiamos esto de aqui\n",
      "cambiamos esto de aqui\n",
      "Eso si poli\n"
     ]
    }
   ],
   "source": [
    "funcion_mia(\"cambiamos esto de aqui\")\n",
    "funcion_mia(\"cambiamos esto de aqui\")\n",
    "funcion_mia(\"cambiamos esto de aqui\")\n",
    "funcion_mia(\"cambiamos esto de aqui\")\n",
    "funcion_mia(\"Eso si poli\")\n"
   ]
  },
  {
   "cell_type": "code",
   "execution_count": null,
   "metadata": {},
   "outputs": [],
   "source": []
  },
  {
   "cell_type": "code",
   "execution_count": null,
   "metadata": {},
   "outputs": [],
   "source": []
  },
  {
   "cell_type": "code",
   "execution_count": null,
   "metadata": {},
   "outputs": [],
   "source": []
  }
 ],
 "metadata": {
  "kernelspec": {
   "display_name": "Python 3",
   "language": "python",
   "name": "python3"
  },
  "language_info": {
   "codemirror_mode": {
    "name": "ipython",
    "version": 3
   },
   "file_extension": ".py",
   "mimetype": "text/x-python",
   "name": "python",
   "nbconvert_exporter": "python",
   "pygments_lexer": "ipython3",
   "version": "3.7.4"
  }
 },
 "nbformat": 4,
 "nbformat_minor": 2
}
