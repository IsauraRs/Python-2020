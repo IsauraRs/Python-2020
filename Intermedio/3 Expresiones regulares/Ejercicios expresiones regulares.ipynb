{
 "cells": [
  {
   "cell_type": "markdown",
   "metadata": {},
   "source": [
    "# Ejercicios asociados al tema de expresiones regulares\n",
    "\n",
    "---\n",
    "\n",
    "[_](https://github.com/RotcehOdraude/Complete-Python-3-Bootcamp/blob/master/13-Advanced%20Python%20Modules/05-Regular%20Expressions%20-%20re.ipynb)"
   ]
  },
  {
   "cell_type": "markdown",
   "metadata": {},
   "source": [
    "# Ejercicio 1:\n",
    "A partir de la siguiente lista de patrones `patrones = ['term1','term2']` utilizar el método `search()` del modulo re para encontrar las coincidencias en el siguiente texto:\n",
    "\n",
    "`texto = \"This is a string with term1, but it does not have the other term.\"`"
   ]
  },
  {
   "cell_type": "code",
   "execution_count": null,
   "metadata": {},
   "outputs": [],
   "source": []
  },
  {
   "cell_type": "markdown",
   "metadata": {},
   "source": [
    "# Ejercicio 2:\n",
    "Utilizando el metodo `split()` del modulo re para dividir la cadena `What is the domain name of someone with the email: hello@gmail.com` siempre que encuentre el caracter `@`"
   ]
  },
  {
   "cell_type": "code",
   "execution_count": null,
   "metadata": {},
   "outputs": [],
   "source": []
  },
  {
   "cell_type": "markdown",
   "metadata": {},
   "source": [
    "# Ejercicio 3:\n",
    "Utilizando el método `findall()` del módulo re encontrar **todas** las coincidencias del patrón `match` en la cadena `test phrase match is in middle`  "
   ]
  },
  {
   "cell_type": "code",
   "execution_count": null,
   "metadata": {},
   "outputs": [],
   "source": []
  }
 ],
 "metadata": {
  "kernelspec": {
   "display_name": "Python 3",
   "language": "python",
   "name": "python3"
  },
  "language_info": {
   "codemirror_mode": {
    "name": "ipython",
    "version": 3
   },
   "file_extension": ".py",
   "mimetype": "text/x-python",
   "name": "python",
   "nbconvert_exporter": "python",
   "pygments_lexer": "ipython3",
   "version": "3.7.4"
  }
 },
 "nbformat": 4,
 "nbformat_minor": 2
}
