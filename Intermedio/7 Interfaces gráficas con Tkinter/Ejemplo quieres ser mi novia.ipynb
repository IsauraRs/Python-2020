{
 "cells": [
  {
   "cell_type": "code",
   "execution_count": 7,
   "metadata": {},
   "outputs": [],
   "source": [
    "import tkinter as tk\n",
    "from tkinter import ttk"
   ]
  },
  {
   "cell_type": "code",
   "execution_count": 19,
   "metadata": {},
   "outputs": [],
   "source": [
    "win = tk.Tk()\n",
    "\n",
    "win.title(\"SALIR DE LA FRIENDZONE\")\n",
    "\n",
    "#win.resizable(False,False)\n",
    "\n",
    "a_label = ttk.Label(win,text=\"¿Quieres ser mi novia?\")\n",
    "a_label.grid(column=0,row=0)\n",
    "\n",
    "def click_me():\n",
    "    action.configure(text=\"fui presionado\")\n",
    "    a_label.configure(foreground='red')\n",
    "    a_label.configure(text=\"Sabia que dirias que si :)\")\n",
    "    \n",
    "action = ttk.Button(win,text = \"SI\",command=click_me )\n",
    "action.grid(column=1, row=0)\n",
    "win.mainloop()\n"
   ]
  },
  {
   "cell_type": "code",
   "execution_count": null,
   "metadata": {},
   "outputs": [],
   "source": []
  }
 ],
 "metadata": {
  "kernelspec": {
   "display_name": "Python 3",
   "language": "python",
   "name": "python3"
  },
  "language_info": {
   "codemirror_mode": {
    "name": "ipython",
    "version": 3
   },
   "file_extension": ".py",
   "mimetype": "text/x-python",
   "name": "python",
   "nbconvert_exporter": "python",
   "pygments_lexer": "ipython3",
   "version": "3.7.4"
  }
 },
 "nbformat": 4,
 "nbformat_minor": 2
}
