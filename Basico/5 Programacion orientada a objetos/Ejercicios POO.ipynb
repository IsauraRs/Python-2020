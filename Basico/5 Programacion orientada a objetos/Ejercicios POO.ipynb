{
 "cells": [
  {
   "cell_type": "markdown",
   "metadata": {},
   "source": [
    "# En este cuaderno estan los ejercicios asociados a el tema de POO\n",
    "\n",
    "---\n",
    "\n",
    "[_](https://github.com/RotcehOdraude/Complete-Python-3-Bootcamp/blob/master/05-Object%20Oriented%20Programming/04-OOP%20Challenge.ipynb)\n",
    "[_](https://github.com/RotcehOdraude/Complete-Python-3-Bootcamp/blob/master/05-Object%20Oriented%20Programming/02-Object%20Oriented%20Programming%20Homework.ipynb)"
   ]
  },
  {
   "cell_type": "markdown",
   "metadata": {},
   "source": [
    "# Ejercicio 1:\n",
    "Completa los metodos de la clase Linea para que acepte coordenadas como una tupla y devuelva la pendiente y la distancia\n",
    "\n",
    "```Python\n",
    "class Linea:\n",
    "    \n",
    "    def __init__(self,coor1,coor2):\n",
    "        pass\n",
    "    \n",
    "    def distancia(self):\n",
    "        pass\n",
    "    \n",
    "    def pendiente(self):\n",
    "        pass\n",
    "```"
   ]
  },
  {
   "cell_type": "code",
   "execution_count": null,
   "metadata": {},
   "outputs": [],
   "source": []
  },
  {
   "cell_type": "markdown",
   "metadata": {},
   "source": [
    "# Ejercicio 2:\n",
    "Completa los metodos de la clase Cilindro para que calcule el volumen y el ara de la superficie del cilindro\n",
    "\n",
    "```Python\n",
    "class Cilindro:\n",
    "    \n",
    "    def __init__(self,height=1,radius=1):\n",
    "        pass\n",
    "        \n",
    "    def volumen(self):\n",
    "        pass\n",
    "    \n",
    "    def area_superficie(self):\n",
    "        pass\n",
    "```"
   ]
  },
  {
   "cell_type": "code",
   "execution_count": null,
   "metadata": {},
   "outputs": [],
   "source": []
  },
  {
   "cell_type": "markdown",
   "metadata": {},
   "source": [
    "# Ejercicio 3:\n",
    "En este ejercicio vas a realizar una clase que abstraiga una cuenta bancaria, \n",
    "\n",
    "la clase tendrá dos atributos:\n",
    "+ dueño\n",
    "+ saldo\n",
    "\n",
    "y dos metodos:\n",
    "\n",
    "+ depositar\n",
    "+ retirar\n",
    "\n",
    "como condición, los retiros a la cuenta no deben exceder el saldo.\n",
    "\n",
    "```Python\n",
    "class Cuenta:\n",
    "    def __init__(self):\n",
    "        #Aquí van los atributos\n",
    "    def depositar(self):\n",
    "        #\n",
    "    def retirar(self):\n",
    "        #\n",
    "```\n",
    "Hacer varias instancias de la clase cuenta, probar los metodos de depositar y retirar, asegurarse que retriar no exceda el saldo de la cuenta\n"
   ]
  },
  {
   "cell_type": "code",
   "execution_count": null,
   "metadata": {},
   "outputs": [],
   "source": []
  }
 ],
 "metadata": {
  "kernelspec": {
   "display_name": "Python 3",
   "language": "python",
   "name": "python3"
  },
  "language_info": {
   "codemirror_mode": {
    "name": "ipython",
    "version": 3
   },
   "file_extension": ".py",
   "mimetype": "text/x-python",
   "name": "python",
   "nbconvert_exporter": "python",
   "pygments_lexer": "ipython3",
   "version": "3.7.4"
  }
 },
 "nbformat": 4,
 "nbformat_minor": 2
}
